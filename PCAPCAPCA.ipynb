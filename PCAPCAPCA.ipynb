{
 "cells": [
  {
   "cell_type": "code",
   "execution_count": 20,
   "id": "initial_id",
   "metadata": {
    "ExecuteTime": {
     "end_time": "2024-09-12T14:32:31.102906700Z",
     "start_time": "2024-09-12T14:32:31.094193900Z"
    },
    "collapsed": true
   },
   "outputs": [],
   "source": [
    "import pandas as pd\n",
    "from sklearn.decomposition import PCA\n",
    "from sklearn.preprocessing import StandardScaler"
   ]
  },
  {
   "cell_type": "code",
   "execution_count": 21,
   "id": "2bb7883b80d86062",
   "metadata": {
    "ExecuteTime": {
     "end_time": "2024-09-12T14:32:31.109742100Z",
     "start_time": "2024-09-12T14:32:31.106294200Z"
    },
    "collapsed": false
   },
   "outputs": [],
   "source": [
    "import warnings\n",
    "# Suppress the specific FutureWarning\n",
    "warnings.filterwarnings(\"ignore\", category=FutureWarning, module='sklearn.ensemble._weight_boosting')\n"
   ]
  },
  {
   "cell_type": "code",
   "execution_count": 22,
   "id": "bde513b4b3746fa2",
   "metadata": {
    "ExecuteTime": {
     "end_time": "2024-09-12T14:32:32.361113900Z",
     "start_time": "2024-09-12T14:32:31.112000100Z"
    },
    "collapsed": false
   },
   "outputs": [],
   "source": [
    "df =pd.read_csv('Featured_Engineering_Data_To_CSV.csv')\n",
    "df.drop('date',axis=1,inplace=True)\n",
    "df.set_index('Name',inplace=True)\n",
    "df.dropna(inplace=True)"
   ]
  },
  {
   "cell_type": "code",
   "execution_count": 23,
   "id": "4a03e2663347ae03",
   "metadata": {
    "ExecuteTime": {
     "end_time": "2024-09-12T14:32:32.362863700Z",
     "start_time": "2024-09-12T14:32:32.355938700Z"
    },
    "collapsed": false
   },
   "outputs": [
    {
     "data": {
      "text/plain": [
       "Index(['APTV', 'BHF', 'BHGE', 'DWDP', 'DXC', 'EVHC', 'FTV', 'HLT', 'UA'], dtype='object', name='Name')"
      ]
     },
     "execution_count": 23,
     "metadata": {},
     "output_type": "execute_result"
    }
   ],
   "source": [
    "all_years = pd.read_csv(\"all_stocks_5yr.csv\")\n",
    "row_counts = all_years.groupby(all_years.Name).size()\n",
    "stocks_with_few_rows = row_counts[row_counts < 500].index\n",
    "stocks_with_few_rows"
   ]
  },
  {
   "cell_type": "code",
   "execution_count": 24,
   "id": "7739e0fa",
   "metadata": {},
   "outputs": [],
   "source": [
    "df = df[~df.index.isin(stocks_with_few_rows)].copy()\n"
   ]
  },
  {
   "cell_type": "code",
   "execution_count": 25,
   "id": "e87e2fd1798368db",
   "metadata": {
    "ExecuteTime": {
     "end_time": "2024-09-12T14:32:32.369741600Z",
     "start_time": "2024-09-12T14:32:32.361113900Z"
    },
    "collapsed": false
   },
   "outputs": [],
   "source": [
    "from sklearn.neighbors import KNeighborsClassifier\n",
    "from sklearn.ensemble import RandomForestClassifier, AdaBoostClassifier\n",
    "from sklearn.discriminant_analysis import LinearDiscriminantAnalysis\n",
    "\n",
    "models = {\n",
    "    'Random Forest': RandomForestClassifier(n_estimators=100, random_state=42),\n",
    "    'AdaBoost': AdaBoostClassifier(n_estimators=100),\n",
    "    'K-Nearest Neighbors': KNeighborsClassifier(n_neighbors=5),\n",
    "    'Linear Discriminant Analysis' : LinearDiscriminantAnalysis()\n",
    "\n",
    "}"
   ]
  },
  {
   "cell_type": "code",
   "execution_count": 26,
   "id": "a0ce6b3f17d93c5",
   "metadata": {
    "ExecuteTime": {
     "end_time": "2024-09-12T14:32:32.478803700Z",
     "start_time": "2024-09-12T14:32:32.366235Z"
    },
    "collapsed": false
   },
   "outputs": [
    {
     "data": {
      "text/html": [
       "<div>\n",
       "<style scoped>\n",
       "    .dataframe tbody tr th:only-of-type {\n",
       "        vertical-align: middle;\n",
       "    }\n",
       "\n",
       "    .dataframe tbody tr th {\n",
       "        vertical-align: top;\n",
       "    }\n",
       "\n",
       "    .dataframe thead th {\n",
       "        text-align: right;\n",
       "    }\n",
       "</style>\n",
       "<table border=\"1\" class=\"dataframe\">\n",
       "  <thead>\n",
       "    <tr style=\"text-align: right;\">\n",
       "      <th></th>\n",
       "      <th>open</th>\n",
       "      <th>high</th>\n",
       "      <th>low</th>\n",
       "      <th>close</th>\n",
       "      <th>volume</th>\n",
       "      <th>RSI</th>\n",
       "      <th>Pct_Change</th>\n",
       "      <th>MA20</th>\n",
       "      <th>MA50</th>\n",
       "      <th>MA100</th>\n",
       "      <th>EMA_6</th>\n",
       "      <th>EMA_12</th>\n",
       "      <th>EMA_26</th>\n",
       "      <th>High_to_Close</th>\n",
       "      <th>Low_to_Close</th>\n",
       "      <th>Label</th>\n",
       "    </tr>\n",
       "    <tr>\n",
       "      <th>Name</th>\n",
       "      <th></th>\n",
       "      <th></th>\n",
       "      <th></th>\n",
       "      <th></th>\n",
       "      <th></th>\n",
       "      <th></th>\n",
       "      <th></th>\n",
       "      <th></th>\n",
       "      <th></th>\n",
       "      <th></th>\n",
       "      <th></th>\n",
       "      <th></th>\n",
       "      <th></th>\n",
       "      <th></th>\n",
       "      <th></th>\n",
       "      <th></th>\n",
       "    </tr>\n",
       "  </thead>\n",
       "  <tbody>\n",
       "    <tr>\n",
       "      <th>A</th>\n",
       "      <td>43.50</td>\n",
       "      <td>43.890</td>\n",
       "      <td>42.95</td>\n",
       "      <td>43.09</td>\n",
       "      <td>2986405</td>\n",
       "      <td>45.041816</td>\n",
       "      <td>-1.147052</td>\n",
       "      <td>43.694</td>\n",
       "      <td>43.8710</td>\n",
       "      <td>43.1518</td>\n",
       "      <td>43.062438</td>\n",
       "      <td>43.250076</td>\n",
       "      <td>43.670602</td>\n",
       "      <td>0.800</td>\n",
       "      <td>-0.14</td>\n",
       "      <td>True</td>\n",
       "    </tr>\n",
       "    <tr>\n",
       "      <th>A</th>\n",
       "      <td>42.82</td>\n",
       "      <td>43.460</td>\n",
       "      <td>42.72</td>\n",
       "      <td>43.17</td>\n",
       "      <td>1940832</td>\n",
       "      <td>41.624365</td>\n",
       "      <td>0.185658</td>\n",
       "      <td>43.626</td>\n",
       "      <td>43.8822</td>\n",
       "      <td>43.1327</td>\n",
       "      <td>43.093170</td>\n",
       "      <td>43.237757</td>\n",
       "      <td>43.633521</td>\n",
       "      <td>0.290</td>\n",
       "      <td>-0.45</td>\n",
       "      <td>True</td>\n",
       "    </tr>\n",
       "    <tr>\n",
       "      <th>A</th>\n",
       "      <td>43.46</td>\n",
       "      <td>44.295</td>\n",
       "      <td>43.40</td>\n",
       "      <td>44.23</td>\n",
       "      <td>2100873</td>\n",
       "      <td>51.360947</td>\n",
       "      <td>2.455409</td>\n",
       "      <td>43.587</td>\n",
       "      <td>43.9098</td>\n",
       "      <td>43.1290</td>\n",
       "      <td>43.417978</td>\n",
       "      <td>43.390410</td>\n",
       "      <td>43.677704</td>\n",
       "      <td>0.065</td>\n",
       "      <td>-0.83</td>\n",
       "      <td>True</td>\n",
       "    </tr>\n",
       "  </tbody>\n",
       "</table>\n",
       "</div>"
      ],
      "text/plain": [
       "       open    high    low  close   volume        RSI  Pct_Change    MA20  \\\n",
       "Name                                                                        \n",
       "A     43.50  43.890  42.95  43.09  2986405  45.041816   -1.147052  43.694   \n",
       "A     42.82  43.460  42.72  43.17  1940832  41.624365    0.185658  43.626   \n",
       "A     43.46  44.295  43.40  44.23  2100873  51.360947    2.455409  43.587   \n",
       "\n",
       "         MA50    MA100      EMA_6     EMA_12     EMA_26  High_to_Close  \\\n",
       "Name                                                                     \n",
       "A     43.8710  43.1518  43.062438  43.250076  43.670602          0.800   \n",
       "A     43.8822  43.1327  43.093170  43.237757  43.633521          0.290   \n",
       "A     43.9098  43.1290  43.417978  43.390410  43.677704          0.065   \n",
       "\n",
       "      Low_to_Close  Label  \n",
       "Name                       \n",
       "A            -0.14   True  \n",
       "A            -0.45   True  \n",
       "A            -0.83   True  "
      ]
     },
     "execution_count": 26,
     "metadata": {},
     "output_type": "execute_result"
    }
   ],
   "source": [
    "df[\"Label2\"] = df.groupby(\"Name\").Pct_Change.shift(-1)\n",
    "df[\"Label\"] = df[\"Label2\"] > 0\n",
    "df.drop(columns=['Label2'], inplace=True)\n",
    "df.head(3)"
   ]
  },
  {
   "cell_type": "code",
   "execution_count": 27,
   "id": "14ec31677fe9251c",
   "metadata": {
    "ExecuteTime": {
     "end_time": "2024-09-12T14:32:32.483438700Z",
     "start_time": "2024-09-12T14:32:32.475430100Z"
    },
    "collapsed": false
   },
   "outputs": [
    {
     "name": "stdout",
     "output_type": "stream",
     "text": [
      "Index(['open', 'high', 'low', 'close', 'volume', 'RSI', 'Pct_Change', 'MA20',\n",
      "       'MA50', 'MA100', 'EMA_6', 'EMA_12', 'EMA_26', 'High_to_Close',\n",
      "       'Low_to_Close', 'Label'],\n",
      "      dtype='object')\n"
     ]
    },
    {
     "data": {
      "text/plain": [
       "Index(['open', 'high', 'low', 'close', 'volume', 'RSI', 'Pct_Change', 'MA20',\n",
       "       'MA50', 'MA100', 'EMA_6', 'EMA_12', 'EMA_26', 'High_to_Close',\n",
       "       'Low_to_Close'],\n",
       "      dtype='object')"
      ]
     },
     "execution_count": 27,
     "metadata": {},
     "output_type": "execute_result"
    }
   ],
   "source": [
    "print(df.columns)\n",
    "df.columns[:-1]"
   ]
  },
  {
   "cell_type": "code",
   "execution_count": 28,
   "id": "df42a7775ce26df5",
   "metadata": {
    "ExecuteTime": {
     "end_time": "2024-09-12T14:35:56.978777300Z",
     "start_time": "2024-09-12T14:35:56.948522500Z"
    },
    "collapsed": false
   },
   "outputs": [],
   "source": [
    "stocks = df.index.unique().tolist()\n",
    "all_accuracies = {}"
   ]
  },
  {
   "cell_type": "markdown",
   "id": "c2278be7",
   "metadata": {},
   "source": [
    "################################# PCA #####################################"
   ]
  },
  {
   "cell_type": "code",
   "execution_count": 29,
   "id": "568939d4defc3424",
   "metadata": {
    "ExecuteTime": {
     "end_time": "2024-09-12T14:37:50.878306400Z",
     "start_time": "2024-09-12T14:37:50.638299600Z"
    },
    "collapsed": false
   },
   "outputs": [
    {
     "data": {
      "text/html": [
       "<div>\n",
       "<style scoped>\n",
       "    .dataframe tbody tr th:only-of-type {\n",
       "        vertical-align: middle;\n",
       "    }\n",
       "\n",
       "    .dataframe tbody tr th {\n",
       "        vertical-align: top;\n",
       "    }\n",
       "\n",
       "    .dataframe thead th {\n",
       "        text-align: right;\n",
       "    }\n",
       "</style>\n",
       "<table border=\"1\" class=\"dataframe\">\n",
       "  <thead>\n",
       "    <tr style=\"text-align: right;\">\n",
       "      <th></th>\n",
       "      <th>0</th>\n",
       "      <th>1</th>\n",
       "      <th>2</th>\n",
       "      <th>3</th>\n",
       "      <th>4</th>\n",
       "      <th>Label</th>\n",
       "    </tr>\n",
       "    <tr>\n",
       "      <th>Name</th>\n",
       "      <th></th>\n",
       "      <th></th>\n",
       "      <th></th>\n",
       "      <th></th>\n",
       "      <th></th>\n",
       "      <th></th>\n",
       "    </tr>\n",
       "  </thead>\n",
       "  <tbody>\n",
       "    <tr>\n",
       "      <th>A</th>\n",
       "      <td>-1.326065</td>\n",
       "      <td>-0.932290</td>\n",
       "      <td>-0.250785</td>\n",
       "      <td>-0.060095</td>\n",
       "      <td>-0.120215</td>\n",
       "      <td>True</td>\n",
       "    </tr>\n",
       "    <tr>\n",
       "      <th>A</th>\n",
       "      <td>-1.351881</td>\n",
       "      <td>-0.228362</td>\n",
       "      <td>-0.231431</td>\n",
       "      <td>-0.680317</td>\n",
       "      <td>0.039195</td>\n",
       "      <td>True</td>\n",
       "    </tr>\n",
       "    <tr>\n",
       "      <th>A</th>\n",
       "      <td>-1.311331</td>\n",
       "      <td>1.204748</td>\n",
       "      <td>-0.107142</td>\n",
       "      <td>-0.784619</td>\n",
       "      <td>0.630375</td>\n",
       "      <td>True</td>\n",
       "    </tr>\n",
       "  </tbody>\n",
       "</table>\n",
       "</div>"
      ],
      "text/plain": [
       "             0         1         2         3         4  Label\n",
       "Name                                                         \n",
       "A    -1.326065 -0.932290 -0.250785 -0.060095 -0.120215   True\n",
       "A    -1.351881 -0.228362 -0.231431 -0.680317  0.039195   True\n",
       "A    -1.311331  1.204748 -0.107142 -0.784619  0.630375   True"
      ]
     },
     "execution_count": 29,
     "metadata": {},
     "output_type": "execute_result"
    }
   ],
   "source": [
    "# הגדרת המשתנה איקס להיות כל הפיטצ'רים חוץ מהלייבל שלי\n",
    "X = df[df.columns[:-1]].values  \n",
    "\n",
    "# הופך את כל הפיטצ'רים להיות בטווח שבין 0 ל1 וזה מאוד חשוב אצלנו כי כל המשחק השלנו הוא בין 0 ל1\n",
    "scaler = StandardScaler()\n",
    "X_scaled = scaler.fit_transform(X)\n",
    "\n",
    "# מפעיל את PCA\n",
    "pca = PCA(0.95)  \n",
    "# קבלת המידע החדש שהמרנו\n",
    "X_pca = pca.fit_transform(X_scaled)\n",
    "\n",
    "# יצירת הדאטה פריים שלנו שמורכב מהוקטורים החדשים שלנו\n",
    "df_pca = pd.DataFrame(data=X_pca, index=df.index)\n",
    "df_pca[\"Label\"] = df[\"Label\"]\n",
    "df_pca.head(3)"
   ]
  },
  {
   "cell_type": "code",
   "execution_count": 30,
   "id": "fb3a691a",
   "metadata": {},
   "outputs": [
    {
     "data": {
      "text/plain": [
       "array([0.71767437, 0.09679411, 0.06576474, 0.05703182, 0.03055692])"
      ]
     },
     "execution_count": 30,
     "metadata": {},
     "output_type": "execute_result"
    }
   ],
   "source": [
    "# כמה שונות כל וקטור תופס מהמידע המקורי\n",
    "pca.explained_variance_ratio_"
   ]
  },
  {
   "cell_type": "code",
   "execution_count": 31,
   "id": "6ec77a10364971bc",
   "metadata": {
    "ExecuteTime": {
     "end_time": "2024-09-12T14:42:40.694945400Z",
     "start_time": "2024-09-12T14:38:20.384505700Z"
    },
    "collapsed": false
   },
   "outputs": [],
   "source": [
    "from sklearn.metrics import accuracy_score\n",
    "from sklearn.model_selection import train_test_split\n",
    "\n",
    "# לולאה שרצה על כל המניות \n",
    "for stock in stocks:\n",
    "    # הגדרת המניה\n",
    "    data = df_pca[df.index == stock].copy()\n",
    "    # הגדרת איקס שלנו שזה כל הפיטצ'רים פחות הלייבל\n",
    "    X = data[data.columns[:-1]]\n",
    "    # הגדרת ואיי להיות הלייבל שלי\n",
    "    y = data['Label']\n",
    "        # חלוקת הנתונים לטריין וטסט\n",
    "    X_train, X_test, y_train, y_test = train_test_split(X, y, test_size=0.2)\n",
    "    \n",
    "    accuracy_results = {}\n",
    "    \n",
    "    for name, model in models.items():\n",
    "            # אימון המודל\n",
    "        model.fit(X_train, y_train)\n",
    "            \n",
    "            # חיזוי המודל\n",
    "        y_pred = model.predict(X_test)\n",
    "            \n",
    "            # חישוב אחוזי דיוק\n",
    "        accuracy = accuracy_score(y_test, y_pred)\n",
    "            \n",
    "            # אחסון אחוזי הדיוק\n",
    "        accuracy_results[name] = accuracy\n",
    "   \n",
    "    \n",
    "    # שמירת אחוזי הדיוק של כל מניה\n",
    "    all_accuracies[stock] = accuracy_results\n"
   ]
  },
  {
   "cell_type": "code",
   "execution_count": 32,
   "id": "48d69d26e638f165",
   "metadata": {
    "ExecuteTime": {
     "end_time": "2024-09-12T14:42:43.589753300Z",
     "start_time": "2024-09-12T14:42:43.567775300Z"
    },
    "collapsed": false
   },
   "outputs": [
    {
     "name": "stdout",
     "output_type": "stream",
     "text": [
      "     Random Forest  AdaBoost  K-Nearest Neighbors  \\\n",
      "A         0.482759  0.564655             0.487069   \n",
      "AAL       0.506024  0.554217             0.518072   \n",
      "AAP       0.461847  0.497992             0.477912   \n",
      "\n",
      "     Linear Discriminant Analysis  \n",
      "A                        0.581897  \n",
      "AAL                      0.530120  \n",
      "AAP                      0.473896  \n"
     ]
    },
    {
     "data": {
      "text/html": [
       "<div>\n",
       "<style scoped>\n",
       "    .dataframe tbody tr th:only-of-type {\n",
       "        vertical-align: middle;\n",
       "    }\n",
       "\n",
       "    .dataframe tbody tr th {\n",
       "        vertical-align: top;\n",
       "    }\n",
       "\n",
       "    .dataframe thead th {\n",
       "        text-align: right;\n",
       "    }\n",
       "</style>\n",
       "<table border=\"1\" class=\"dataframe\">\n",
       "  <thead>\n",
       "    <tr style=\"text-align: right;\">\n",
       "      <th></th>\n",
       "      <th>Random Forest</th>\n",
       "      <th>AdaBoost</th>\n",
       "      <th>K-Nearest Neighbors</th>\n",
       "      <th>Linear Discriminant Analysis</th>\n",
       "    </tr>\n",
       "  </thead>\n",
       "  <tbody>\n",
       "    <tr>\n",
       "      <th>ZTS</th>\n",
       "      <td>0.534137</td>\n",
       "      <td>0.526104</td>\n",
       "      <td>0.526104</td>\n",
       "      <td>0.526104</td>\n",
       "    </tr>\n",
       "  </tbody>\n",
       "</table>\n",
       "</div>"
      ],
      "text/plain": [
       "     Random Forest  AdaBoost  K-Nearest Neighbors  \\\n",
       "ZTS       0.534137  0.526104             0.526104   \n",
       "\n",
       "     Linear Discriminant Analysis  \n",
       "ZTS                      0.526104  "
      ]
     },
     "execution_count": 32,
     "metadata": {},
     "output_type": "execute_result"
    }
   ],
   "source": [
    "# הדפסת תוצאות הפי-סי-איי שלנו של כל מודל לדאטה פריים\n",
    "accuracy_df = pd.DataFrame(all_accuracies).T\n",
    "print(accuracy_df.head(3))\n",
    "accuracy_df.tail(1)"
   ]
  },
  {
   "cell_type": "code",
   "execution_count": 33,
   "id": "3f9f50af9d760f83",
   "metadata": {
    "ExecuteTime": {
     "end_time": "2024-09-12T14:44:03.286897800Z",
     "start_time": "2024-09-12T14:44:03.251446900Z"
    },
    "collapsed": false
   },
   "outputs": [
    {
     "data": {
      "text/html": [
       "<div>\n",
       "<style scoped>\n",
       "    .dataframe tbody tr th:only-of-type {\n",
       "        vertical-align: middle;\n",
       "    }\n",
       "\n",
       "    .dataframe tbody tr th {\n",
       "        vertical-align: top;\n",
       "    }\n",
       "\n",
       "    .dataframe thead th {\n",
       "        text-align: right;\n",
       "    }\n",
       "</style>\n",
       "<table border=\"1\" class=\"dataframe\">\n",
       "  <thead>\n",
       "    <tr style=\"text-align: right;\">\n",
       "      <th></th>\n",
       "      <th>Random Forest</th>\n",
       "      <th>AdaBoost</th>\n",
       "      <th>K-Nearest Neighbors</th>\n",
       "      <th>Linear Discriminant Analysis</th>\n",
       "    </tr>\n",
       "  </thead>\n",
       "  <tbody>\n",
       "    <tr>\n",
       "      <th>count</th>\n",
       "      <td>496.000000</td>\n",
       "      <td>496.000000</td>\n",
       "      <td>496.000000</td>\n",
       "      <td>496.000000</td>\n",
       "    </tr>\n",
       "    <tr>\n",
       "      <th>mean</th>\n",
       "      <td>0.506580</td>\n",
       "      <td>0.507641</td>\n",
       "      <td>0.502414</td>\n",
       "      <td>0.517425</td>\n",
       "    </tr>\n",
       "    <tr>\n",
       "      <th>std</th>\n",
       "      <td>0.033324</td>\n",
       "      <td>0.031242</td>\n",
       "      <td>0.030081</td>\n",
       "      <td>0.034858</td>\n",
       "    </tr>\n",
       "    <tr>\n",
       "      <th>min</th>\n",
       "      <td>0.413655</td>\n",
       "      <td>0.425703</td>\n",
       "      <td>0.417671</td>\n",
       "      <td>0.421687</td>\n",
       "    </tr>\n",
       "    <tr>\n",
       "      <th>25%</th>\n",
       "      <td>0.482551</td>\n",
       "      <td>0.485944</td>\n",
       "      <td>0.481928</td>\n",
       "      <td>0.491342</td>\n",
       "    </tr>\n",
       "    <tr>\n",
       "      <th>50%</th>\n",
       "      <td>0.506024</td>\n",
       "      <td>0.506024</td>\n",
       "      <td>0.502008</td>\n",
       "      <td>0.518072</td>\n",
       "    </tr>\n",
       "    <tr>\n",
       "      <th>75%</th>\n",
       "      <td>0.530120</td>\n",
       "      <td>0.530120</td>\n",
       "      <td>0.526104</td>\n",
       "      <td>0.542169</td>\n",
       "    </tr>\n",
       "    <tr>\n",
       "      <th>max</th>\n",
       "      <td>0.622490</td>\n",
       "      <td>0.602410</td>\n",
       "      <td>0.598394</td>\n",
       "      <td>0.618474</td>\n",
       "    </tr>\n",
       "  </tbody>\n",
       "</table>\n",
       "</div>"
      ],
      "text/plain": [
       "       Random Forest    AdaBoost  K-Nearest Neighbors  \\\n",
       "count     496.000000  496.000000           496.000000   \n",
       "mean        0.506580    0.507641             0.502414   \n",
       "std         0.033324    0.031242             0.030081   \n",
       "min         0.413655    0.425703             0.417671   \n",
       "25%         0.482551    0.485944             0.481928   \n",
       "50%         0.506024    0.506024             0.502008   \n",
       "75%         0.530120    0.530120             0.526104   \n",
       "max         0.622490    0.602410             0.598394   \n",
       "\n",
       "       Linear Discriminant Analysis  \n",
       "count                    496.000000  \n",
       "mean                       0.517425  \n",
       "std                        0.034858  \n",
       "min                        0.421687  \n",
       "25%                        0.491342  \n",
       "50%                        0.518072  \n",
       "75%                        0.542169  \n",
       "max                        0.618474  "
      ]
     },
     "execution_count": 33,
     "metadata": {},
     "output_type": "execute_result"
    }
   ],
   "source": [
    "accuracy_df.describe()"
   ]
  },
  {
   "cell_type": "code",
   "execution_count": null,
   "id": "638bb360f51a9b37",
   "metadata": {
    "collapsed": false
   },
   "outputs": [],
   "source": []
  }
 ],
 "metadata": {
  "kernelspec": {
   "display_name": "Python 3",
   "language": "python",
   "name": "python3"
  },
  "language_info": {
   "codemirror_mode": {
    "name": "ipython",
    "version": 3
   },
   "file_extension": ".py",
   "mimetype": "text/x-python",
   "name": "python",
   "nbconvert_exporter": "python",
   "pygments_lexer": "ipython3",
   "version": "3.12.5"
  }
 },
 "nbformat": 4,
 "nbformat_minor": 5
}
