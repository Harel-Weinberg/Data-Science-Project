{
 "cells": [
  {
   "cell_type": "code",
   "execution_count": 41,
   "id": "initial_id",
   "metadata": {
    "ExecuteTime": {
     "end_time": "2024-09-18T21:28:42.394247400Z",
     "start_time": "2024-09-18T21:28:42.376902200Z"
    },
    "collapsed": true
   },
   "outputs": [],
   "source": [
    "import pandas as pd\n",
    "import matplotlib.pyplot as plt\n",
    "from sklearn.cluster import KMeans\n",
    "from sklearn.model_selection import train_test_split\n",
    "from sklearn.preprocessing import StandardScaler"
   ]
  },
  {
   "cell_type": "code",
   "execution_count": 42,
   "id": "9428485f21d4603a",
   "metadata": {
    "ExecuteTime": {
     "end_time": "2024-09-18T21:28:44.427169800Z",
     "start_time": "2024-09-18T21:28:42.623328600Z"
    },
    "collapsed": false
   },
   "outputs": [
    {
     "data": {
      "text/html": [
       "<div>\n",
       "<style scoped>\n",
       "    .dataframe tbody tr th:only-of-type {\n",
       "        vertical-align: middle;\n",
       "    }\n",
       "\n",
       "    .dataframe tbody tr th {\n",
       "        vertical-align: top;\n",
       "    }\n",
       "\n",
       "    .dataframe thead th {\n",
       "        text-align: right;\n",
       "    }\n",
       "</style>\n",
       "<table border=\"1\" class=\"dataframe\">\n",
       "  <thead>\n",
       "    <tr style=\"text-align: right;\">\n",
       "      <th></th>\n",
       "      <th>open</th>\n",
       "      <th>high</th>\n",
       "      <th>low</th>\n",
       "      <th>close</th>\n",
       "      <th>volume</th>\n",
       "      <th>RSI</th>\n",
       "      <th>Pct_Change</th>\n",
       "      <th>MA20</th>\n",
       "      <th>MA50</th>\n",
       "      <th>MA100</th>\n",
       "      <th>EMA_6</th>\n",
       "      <th>EMA_12</th>\n",
       "      <th>EMA_26</th>\n",
       "      <th>High_to_Close</th>\n",
       "      <th>Low_to_Close</th>\n",
       "    </tr>\n",
       "    <tr>\n",
       "      <th>Name</th>\n",
       "      <th></th>\n",
       "      <th></th>\n",
       "      <th></th>\n",
       "      <th></th>\n",
       "      <th></th>\n",
       "      <th></th>\n",
       "      <th></th>\n",
       "      <th></th>\n",
       "      <th></th>\n",
       "      <th></th>\n",
       "      <th></th>\n",
       "      <th></th>\n",
       "      <th></th>\n",
       "      <th></th>\n",
       "      <th></th>\n",
       "    </tr>\n",
       "  </thead>\n",
       "  <tbody>\n",
       "    <tr>\n",
       "      <th>A</th>\n",
       "      <td>43.50</td>\n",
       "      <td>43.890</td>\n",
       "      <td>42.95</td>\n",
       "      <td>43.09</td>\n",
       "      <td>2986405</td>\n",
       "      <td>45.041816</td>\n",
       "      <td>-1.147052</td>\n",
       "      <td>43.6940</td>\n",
       "      <td>43.8710</td>\n",
       "      <td>43.1518</td>\n",
       "      <td>43.062438</td>\n",
       "      <td>43.250076</td>\n",
       "      <td>43.670602</td>\n",
       "      <td>0.800</td>\n",
       "      <td>-0.14</td>\n",
       "    </tr>\n",
       "    <tr>\n",
       "      <th>A</th>\n",
       "      <td>42.82</td>\n",
       "      <td>43.460</td>\n",
       "      <td>42.72</td>\n",
       "      <td>43.17</td>\n",
       "      <td>1940832</td>\n",
       "      <td>41.624365</td>\n",
       "      <td>0.185658</td>\n",
       "      <td>43.6260</td>\n",
       "      <td>43.8822</td>\n",
       "      <td>43.1327</td>\n",
       "      <td>43.093170</td>\n",
       "      <td>43.237757</td>\n",
       "      <td>43.633521</td>\n",
       "      <td>0.290</td>\n",
       "      <td>-0.45</td>\n",
       "    </tr>\n",
       "    <tr>\n",
       "      <th>A</th>\n",
       "      <td>43.46</td>\n",
       "      <td>44.295</td>\n",
       "      <td>43.40</td>\n",
       "      <td>44.23</td>\n",
       "      <td>2100873</td>\n",
       "      <td>51.360947</td>\n",
       "      <td>2.455409</td>\n",
       "      <td>43.5870</td>\n",
       "      <td>43.9098</td>\n",
       "      <td>43.1290</td>\n",
       "      <td>43.417978</td>\n",
       "      <td>43.390410</td>\n",
       "      <td>43.677704</td>\n",
       "      <td>0.065</td>\n",
       "      <td>-0.83</td>\n",
       "    </tr>\n",
       "    <tr>\n",
       "      <th>A</th>\n",
       "      <td>44.38</td>\n",
       "      <td>44.670</td>\n",
       "      <td>44.12</td>\n",
       "      <td>44.36</td>\n",
       "      <td>2572391</td>\n",
       "      <td>49.878049</td>\n",
       "      <td>0.293918</td>\n",
       "      <td>43.5475</td>\n",
       "      <td>43.9424</td>\n",
       "      <td>43.1264</td>\n",
       "      <td>43.687127</td>\n",
       "      <td>43.539577</td>\n",
       "      <td>43.728245</td>\n",
       "      <td>0.310</td>\n",
       "      <td>-0.24</td>\n",
       "    </tr>\n",
       "    <tr>\n",
       "      <th>A</th>\n",
       "      <td>44.60</td>\n",
       "      <td>44.960</td>\n",
       "      <td>44.34</td>\n",
       "      <td>44.60</td>\n",
       "      <td>3476214</td>\n",
       "      <td>48.753117</td>\n",
       "      <td>0.541028</td>\n",
       "      <td>43.5410</td>\n",
       "      <td>44.0084</td>\n",
       "      <td>43.1249</td>\n",
       "      <td>43.947948</td>\n",
       "      <td>43.702719</td>\n",
       "      <td>43.792819</td>\n",
       "      <td>0.360</td>\n",
       "      <td>-0.26</td>\n",
       "    </tr>\n",
       "  </tbody>\n",
       "</table>\n",
       "</div>"
      ],
      "text/plain": [
       "       open    high    low  close   volume        RSI  Pct_Change     MA20  \\\n",
       "Name                                                                         \n",
       "A     43.50  43.890  42.95  43.09  2986405  45.041816   -1.147052  43.6940   \n",
       "A     42.82  43.460  42.72  43.17  1940832  41.624365    0.185658  43.6260   \n",
       "A     43.46  44.295  43.40  44.23  2100873  51.360947    2.455409  43.5870   \n",
       "A     44.38  44.670  44.12  44.36  2572391  49.878049    0.293918  43.5475   \n",
       "A     44.60  44.960  44.34  44.60  3476214  48.753117    0.541028  43.5410   \n",
       "\n",
       "         MA50    MA100      EMA_6     EMA_12     EMA_26  High_to_Close  \\\n",
       "Name                                                                     \n",
       "A     43.8710  43.1518  43.062438  43.250076  43.670602          0.800   \n",
       "A     43.8822  43.1327  43.093170  43.237757  43.633521          0.290   \n",
       "A     43.9098  43.1290  43.417978  43.390410  43.677704          0.065   \n",
       "A     43.9424  43.1264  43.687127  43.539577  43.728245          0.310   \n",
       "A     44.0084  43.1249  43.947948  43.702719  43.792819          0.360   \n",
       "\n",
       "      Low_to_Close  \n",
       "Name                \n",
       "A            -0.14  \n",
       "A            -0.45  \n",
       "A            -0.83  \n",
       "A            -0.24  \n",
       "A            -0.26  "
      ]
     },
     "execution_count": 42,
     "metadata": {},
     "output_type": "execute_result"
    }
   ],
   "source": [
    "df = pd.read_csv(\"Featured_Engineering_Data_To_CSV.csv\")\n",
    "df.drop(\"date\", axis=1, inplace=True)\n",
    "df.set_index(\"Name\", inplace=True)\n",
    "df.dropna(inplace=True)\n",
    "\n",
    "df.head()"
   ]
  },
  {
   "cell_type": "code",
   "execution_count": 43,
   "id": "b2544c8496af2559",
   "metadata": {
    "ExecuteTime": {
     "end_time": "2024-09-18T21:28:53.221758100Z",
     "start_time": "2024-09-18T21:28:52.716647Z"
    },
    "collapsed": false
   },
   "outputs": [],
   "source": [
    "all_years = pd.read_csv(\"all_stocks_5yr.csv\")\n",
    "row_counts = all_years.groupby(all_years.Name).size()\n",
    "stocks_with_few_rows = row_counts[row_counts < 500].index\n",
    "stocks_with_few_rows\n",
    "df = df[~df.index.isin(stocks_with_few_rows)].copy()"
   ]
  },
  {
   "cell_type": "code",
   "execution_count": 44,
   "id": "e04cb14c2f4dceda",
   "metadata": {
    "ExecuteTime": {
     "end_time": "2024-09-18T21:28:53.311553900Z",
     "start_time": "2024-09-18T21:28:53.224276600Z"
    },
    "collapsed": false
   },
   "outputs": [
    {
     "data": {
      "text/html": [
       "<div>\n",
       "<style scoped>\n",
       "    .dataframe tbody tr th:only-of-type {\n",
       "        vertical-align: middle;\n",
       "    }\n",
       "\n",
       "    .dataframe tbody tr th {\n",
       "        vertical-align: top;\n",
       "    }\n",
       "\n",
       "    .dataframe thead th {\n",
       "        text-align: right;\n",
       "    }\n",
       "</style>\n",
       "<table border=\"1\" class=\"dataframe\">\n",
       "  <thead>\n",
       "    <tr style=\"text-align: right;\">\n",
       "      <th></th>\n",
       "      <th>open</th>\n",
       "      <th>high</th>\n",
       "      <th>low</th>\n",
       "      <th>close</th>\n",
       "      <th>volume</th>\n",
       "      <th>RSI</th>\n",
       "      <th>Pct_Change</th>\n",
       "      <th>MA20</th>\n",
       "      <th>MA50</th>\n",
       "      <th>MA100</th>\n",
       "      <th>EMA_6</th>\n",
       "      <th>EMA_12</th>\n",
       "      <th>EMA_26</th>\n",
       "      <th>High_to_Close</th>\n",
       "      <th>Low_to_Close</th>\n",
       "      <th>Label</th>\n",
       "    </tr>\n",
       "    <tr>\n",
       "      <th>Name</th>\n",
       "      <th></th>\n",
       "      <th></th>\n",
       "      <th></th>\n",
       "      <th></th>\n",
       "      <th></th>\n",
       "      <th></th>\n",
       "      <th></th>\n",
       "      <th></th>\n",
       "      <th></th>\n",
       "      <th></th>\n",
       "      <th></th>\n",
       "      <th></th>\n",
       "      <th></th>\n",
       "      <th></th>\n",
       "      <th></th>\n",
       "      <th></th>\n",
       "    </tr>\n",
       "  </thead>\n",
       "  <tbody>\n",
       "    <tr>\n",
       "      <th>A</th>\n",
       "      <td>43.50</td>\n",
       "      <td>43.890</td>\n",
       "      <td>42.95</td>\n",
       "      <td>43.09</td>\n",
       "      <td>2986405</td>\n",
       "      <td>45.041816</td>\n",
       "      <td>-1.147052</td>\n",
       "      <td>43.6940</td>\n",
       "      <td>43.8710</td>\n",
       "      <td>43.1518</td>\n",
       "      <td>43.062438</td>\n",
       "      <td>43.250076</td>\n",
       "      <td>43.670602</td>\n",
       "      <td>0.800</td>\n",
       "      <td>-0.14</td>\n",
       "      <td>1</td>\n",
       "    </tr>\n",
       "    <tr>\n",
       "      <th>A</th>\n",
       "      <td>42.82</td>\n",
       "      <td>43.460</td>\n",
       "      <td>42.72</td>\n",
       "      <td>43.17</td>\n",
       "      <td>1940832</td>\n",
       "      <td>41.624365</td>\n",
       "      <td>0.185658</td>\n",
       "      <td>43.6260</td>\n",
       "      <td>43.8822</td>\n",
       "      <td>43.1327</td>\n",
       "      <td>43.093170</td>\n",
       "      <td>43.237757</td>\n",
       "      <td>43.633521</td>\n",
       "      <td>0.290</td>\n",
       "      <td>-0.45</td>\n",
       "      <td>1</td>\n",
       "    </tr>\n",
       "    <tr>\n",
       "      <th>A</th>\n",
       "      <td>43.46</td>\n",
       "      <td>44.295</td>\n",
       "      <td>43.40</td>\n",
       "      <td>44.23</td>\n",
       "      <td>2100873</td>\n",
       "      <td>51.360947</td>\n",
       "      <td>2.455409</td>\n",
       "      <td>43.5870</td>\n",
       "      <td>43.9098</td>\n",
       "      <td>43.1290</td>\n",
       "      <td>43.417978</td>\n",
       "      <td>43.390410</td>\n",
       "      <td>43.677704</td>\n",
       "      <td>0.065</td>\n",
       "      <td>-0.83</td>\n",
       "      <td>1</td>\n",
       "    </tr>\n",
       "    <tr>\n",
       "      <th>A</th>\n",
       "      <td>44.38</td>\n",
       "      <td>44.670</td>\n",
       "      <td>44.12</td>\n",
       "      <td>44.36</td>\n",
       "      <td>2572391</td>\n",
       "      <td>49.878049</td>\n",
       "      <td>0.293918</td>\n",
       "      <td>43.5475</td>\n",
       "      <td>43.9424</td>\n",
       "      <td>43.1264</td>\n",
       "      <td>43.687127</td>\n",
       "      <td>43.539577</td>\n",
       "      <td>43.728245</td>\n",
       "      <td>0.310</td>\n",
       "      <td>-0.24</td>\n",
       "      <td>1</td>\n",
       "    </tr>\n",
       "    <tr>\n",
       "      <th>A</th>\n",
       "      <td>44.60</td>\n",
       "      <td>44.960</td>\n",
       "      <td>44.34</td>\n",
       "      <td>44.60</td>\n",
       "      <td>3476214</td>\n",
       "      <td>48.753117</td>\n",
       "      <td>0.541028</td>\n",
       "      <td>43.5410</td>\n",
       "      <td>44.0084</td>\n",
       "      <td>43.1249</td>\n",
       "      <td>43.947948</td>\n",
       "      <td>43.702719</td>\n",
       "      <td>43.792819</td>\n",
       "      <td>0.360</td>\n",
       "      <td>-0.26</td>\n",
       "      <td>1</td>\n",
       "    </tr>\n",
       "  </tbody>\n",
       "</table>\n",
       "</div>"
      ],
      "text/plain": [
       "       open    high    low  close   volume        RSI  Pct_Change     MA20  \\\n",
       "Name                                                                         \n",
       "A     43.50  43.890  42.95  43.09  2986405  45.041816   -1.147052  43.6940   \n",
       "A     42.82  43.460  42.72  43.17  1940832  41.624365    0.185658  43.6260   \n",
       "A     43.46  44.295  43.40  44.23  2100873  51.360947    2.455409  43.5870   \n",
       "A     44.38  44.670  44.12  44.36  2572391  49.878049    0.293918  43.5475   \n",
       "A     44.60  44.960  44.34  44.60  3476214  48.753117    0.541028  43.5410   \n",
       "\n",
       "         MA50    MA100      EMA_6     EMA_12     EMA_26  High_to_Close  \\\n",
       "Name                                                                     \n",
       "A     43.8710  43.1518  43.062438  43.250076  43.670602          0.800   \n",
       "A     43.8822  43.1327  43.093170  43.237757  43.633521          0.290   \n",
       "A     43.9098  43.1290  43.417978  43.390410  43.677704          0.065   \n",
       "A     43.9424  43.1264  43.687127  43.539577  43.728245          0.310   \n",
       "A     44.0084  43.1249  43.947948  43.702719  43.792819          0.360   \n",
       "\n",
       "      Low_to_Close  Label  \n",
       "Name                       \n",
       "A            -0.14      1  \n",
       "A            -0.45      1  \n",
       "A            -0.83      1  \n",
       "A            -0.24      1  \n",
       "A            -0.26      1  "
      ]
     },
     "execution_count": 44,
     "metadata": {},
     "output_type": "execute_result"
    }
   ],
   "source": [
    "df[\"Label2\"] = df.groupby(\"Name\").Pct_Change.shift(-1)\n",
    "df[\"Label\"] = (df[\"Label2\"] > 0).astype(int)\n",
    "df.drop(columns=['Label2'], inplace=True)\n",
    "df.head()"
   ]
  },
  {
   "cell_type": "code",
   "execution_count": 45,
   "id": "d01e99499e1893d1",
   "metadata": {
    "ExecuteTime": {
     "end_time": "2024-09-18T21:28:54.627836200Z",
     "start_time": "2024-09-18T21:28:54.321927500Z"
    },
    "collapsed": false
   },
   "outputs": [
    {
     "data": {
      "image/png": "[encoded data removed]",
      "text/plain": [
       "<Figure size 640x480 with 1 Axes>"
      ]
     },
     "metadata": {},
     "output_type": "display_data"
    }
   ],
   "source": [
    "\n",
    "# בחירת הפיטצ'רים כלומר לקחתי את כל המידע שלי מהמניה שבחרתי\n",
    "dfAAL = df[df.index == \"AAL\"]\n",
    "features = dfAAL.drop(columns=\"Label\").copy()\n",
    "\n",
    "#  מנרמל את התכונות שיהיו באותו סדר גודל בשביל שאף משתנה לא ישתלט לי בצורה חריגה על מציאת האמצע כלומר הקלסטר שלי\n",
    "scaler = StandardScaler()\n",
    "scaled_features = scaler.fit_transform(features)\n",
    "\n",
    "# מציאת מספר הקלאסטרים האופטימלי בעזרת שיטת המרפק\n",
    "inertia = []\n",
    "k_range = range(1, 10)\n",
    "for k in k_range:\n",
    "    # זריקת הנקודות באופן רנדומלי\n",
    "    kmeans = KMeans(n_clusters=k, random_state=42)\n",
    "    # מציאת הנקודות שיהיו במקומות האופטימלים\n",
    "    kmeans.fit(scaled_features)\n",
    "    # מכניס לרשימה שלי את האינרציה\n",
    "    inertia.append(kmeans.inertia_)\n",
    "\n",
    "# יצירת גרף המרפק שנראה למטה\n",
    "plt.plot(k_range, inertia, marker='o')\n",
    "plt.xlabel('Number of clusters we have(k)')\n",
    "plt.ylabel('Inertia')\n",
    "plt.title('Elbow plot for Optimal k clusters')\n",
    "plt.show()\n"
   ]
  },
  {
   "cell_type": "markdown",
   "id": "67014c0fca4d0bd6",
   "metadata": {
    "collapsed": false
   },
   "source": [
    "########################## מספר הקלסטרים האופטימלי שלנו פה זה 2 ##########################"
   ]
  },
  {
   "cell_type": "code",
   "execution_count": 46,
   "id": "f3f60d24c3b52c01",
   "metadata": {
    "ExecuteTime": {
     "end_time": "2024-09-18T21:29:21.695231800Z",
     "start_time": "2024-09-18T21:28:56.474770700Z"
    },
    "collapsed": false
   },
   "outputs": [],
   "source": [
    "# רשימת שמות המניות שלנו\n",
    "stocks = df.index.unique().tolist()\n",
    "# יצירת מילוןa\n",
    "all_clusters ={}\n",
    "for stock in stocks:\n",
    "    # הגדרת המשתנה שירוץ על כל מניה\n",
    "    stock_df = df[df.index == stock]\n",
    "   # הגדרת איקס שלנו שזה כל הפיטצ'רים פחות הלייבל\n",
    "    X = stock_df.drop(columns=\"Label\").copy()\n",
    "   # הגדרת וואי שלנו שזה הלייבל\n",
    "    y = stock_df[\"Label\"]\n",
    "    # חלוקת הנתונים לטריין וטסט\n",
    "    X_train, X_test, y_train, y_test = train_test_split(X, y, test_size=0.2, random_state=42)\n",
    "    # כיווץ הנתונים שיהיו בין 0 ל1 בשביל שהמחשב יידע להתמודד עם ההבדלים בסדרי גודל שלנו\n",
    "    scaler = StandardScaler()\n",
    "    X_train_scaled = scaler.fit_transform(X_train)\n",
    "    # הגדרת מספר הקלסטרים האופטימלי שבחרנו כמסקנה מהגרף\n",
    "    n_clusters = 2\n",
    "    # הגדרת המודל עם המשתנים שבחרנו\n",
    "    kmeans = KMeans(n_clusters=n_clusters, random_state=42)\n",
    "    # הפעלת המודל שיעבוד בצורה אופטימלית\n",
    "    kmeans.fit(X_train_scaled)\n",
    "\n",
    "    # בניית הדאטה פריים שלנו שנראה בהמשך\n",
    "    cluster_df = pd.DataFrame({'Cluster': kmeans.labels_}, index=X_train.index)\n",
    "    cluster_df[\"Label\"] = y_train.copy()\n",
    "    # עבור כל קלסטר הוא מחשב את הממוצע של הלייבל\n",
    "    cluster_means = cluster_df.groupby('Cluster')['Label'].mean()\n",
    "    all_clusters[f\"{stock}\"] = cluster_means\n"
   ]
  },
  {
   "cell_type": "code",
   "execution_count": 47,
   "id": "42309ecf107a75be",
   "metadata": {
    "ExecuteTime": {
     "end_time": "2024-09-18T21:29:21.748158200Z",
     "start_time": "2024-09-18T21:29:21.696229200Z"
    },
    "collapsed": false
   },
   "outputs": [
    {
     "data": {
      "text/html": [
       "<div>\n",
       "<style scoped>\n",
       "    .dataframe tbody tr th:only-of-type {\n",
       "        vertical-align: middle;\n",
       "    }\n",
       "\n",
       "    .dataframe tbody tr th {\n",
       "        vertical-align: top;\n",
       "    }\n",
       "\n",
       "    .dataframe thead th {\n",
       "        text-align: right;\n",
       "    }\n",
       "</style>\n",
       "<table border=\"1\" class=\"dataframe\">\n",
       "  <thead>\n",
       "    <tr style=\"text-align: right;\">\n",
       "      <th>Cluster</th>\n",
       "      <th>0</th>\n",
       "      <th>1</th>\n",
       "    </tr>\n",
       "  </thead>\n",
       "  <tbody>\n",
       "    <tr>\n",
       "      <th>A</th>\n",
       "      <td>0.512963</td>\n",
       "      <td>0.528351</td>\n",
       "    </tr>\n",
       "    <tr>\n",
       "      <th>AAL</th>\n",
       "      <td>0.602871</td>\n",
       "      <td>0.504447</td>\n",
       "    </tr>\n",
       "    <tr>\n",
       "      <th>AAP</th>\n",
       "      <td>0.529262</td>\n",
       "      <td>0.497512</td>\n",
       "    </tr>\n",
       "    <tr>\n",
       "      <th>AAPL</th>\n",
       "      <td>0.540496</td>\n",
       "      <td>0.485934</td>\n",
       "    </tr>\n",
       "    <tr>\n",
       "      <th>ABBV</th>\n",
       "      <td>0.549945</td>\n",
       "      <td>0.529412</td>\n",
       "    </tr>\n",
       "  </tbody>\n",
       "</table>\n",
       "</div>"
      ],
      "text/plain": [
       "Cluster         0         1\n",
       "A        0.512963  0.528351\n",
       "AAL      0.602871  0.504447\n",
       "AAP      0.529262  0.497512\n",
       "AAPL     0.540496  0.485934\n",
       "ABBV     0.549945  0.529412"
      ]
     },
     "execution_count": 47,
     "metadata": {},
     "output_type": "execute_result"
    }
   ],
   "source": [
    "# הצגת הדאטה שלנו\n",
    "df_clusters = pd.DataFrame(all_clusters)\n",
    "df_clusters = df_clusters.T\n",
    "\n",
    "df_clusters.head()"
   ]
  },
  {
   "cell_type": "code",
   "execution_count": 48,
   "id": "13bfca6046ebe025",
   "metadata": {
    "ExecuteTime": {
     "end_time": "2024-09-18T21:29:21.760544200Z",
     "start_time": "2024-09-18T21:29:21.742169500Z"
    },
    "collapsed": false
   },
   "outputs": [
    {
     "data": {
      "text/html": [
       "<div>\n",
       "<style scoped>\n",
       "    .dataframe tbody tr th:only-of-type {\n",
       "        vertical-align: middle;\n",
       "    }\n",
       "\n",
       "    .dataframe tbody tr th {\n",
       "        vertical-align: top;\n",
       "    }\n",
       "\n",
       "    .dataframe thead th {\n",
       "        text-align: right;\n",
       "    }\n",
       "</style>\n",
       "<table border=\"1\" class=\"dataframe\">\n",
       "  <thead>\n",
       "    <tr style=\"text-align: right;\">\n",
       "      <th>Cluster</th>\n",
       "      <th>0</th>\n",
       "      <th>1</th>\n",
       "    </tr>\n",
       "  </thead>\n",
       "  <tbody>\n",
       "    <tr>\n",
       "      <th>count</th>\n",
       "      <td>496.000000</td>\n",
       "      <td>496.000000</td>\n",
       "    </tr>\n",
       "    <tr>\n",
       "      <th>mean</th>\n",
       "      <td>0.526387</td>\n",
       "      <td>0.527717</td>\n",
       "    </tr>\n",
       "    <tr>\n",
       "      <th>std</th>\n",
       "      <td>0.025200</td>\n",
       "      <td>0.029977</td>\n",
       "    </tr>\n",
       "    <tr>\n",
       "      <th>min</th>\n",
       "      <td>0.375000</td>\n",
       "      <td>0.435897</td>\n",
       "    </tr>\n",
       "    <tr>\n",
       "      <th>25%</th>\n",
       "      <td>0.510687</td>\n",
       "      <td>0.506750</td>\n",
       "    </tr>\n",
       "    <tr>\n",
       "      <th>50%</th>\n",
       "      <td>0.527071</td>\n",
       "      <td>0.524993</td>\n",
       "    </tr>\n",
       "    <tr>\n",
       "      <th>75%</th>\n",
       "      <td>0.543014</td>\n",
       "      <td>0.542974</td>\n",
       "    </tr>\n",
       "    <tr>\n",
       "      <th>max</th>\n",
       "      <td>0.602871</td>\n",
       "      <td>0.625000</td>\n",
       "    </tr>\n",
       "  </tbody>\n",
       "</table>\n",
       "</div>"
      ],
      "text/plain": [
       "Cluster           0           1\n",
       "count    496.000000  496.000000\n",
       "mean       0.526387    0.527717\n",
       "std        0.025200    0.029977\n",
       "min        0.375000    0.435897\n",
       "25%        0.510687    0.506750\n",
       "50%        0.527071    0.524993\n",
       "75%        0.543014    0.542974\n",
       "max        0.602871    0.625000"
      ]
     },
     "execution_count": 48,
     "metadata": {},
     "output_type": "execute_result"
    }
   ],
   "source": [
    "df_clusters.describe()"
   ]
  },
  {
   "cell_type": "code",
   "execution_count": 49,
   "id": "d3425bf9d15aa68b",
   "metadata": {
    "ExecuteTime": {
     "end_time": "2024-09-18T21:30:01.406437300Z",
     "start_time": "2024-09-18T21:30:01.397761700Z"
    },
    "collapsed": false
   },
   "outputs": [
    {
     "name": "stdout",
     "output_type": "stream",
     "text": [
      "Maximum Value: 0.625\n",
      "Index of Maximum Value: ('TROW', 1)\n"
     ]
    }
   ],
   "source": [
    "# מציאת המקסימום\n",
    "max_value = df_clusters.max().max()\n",
    "max_index = df_clusters.stack().idxmax()  \n",
    "print(f\"Maximum Value: {max_value}\")\n",
    "print(f\"Index of Maximum Value: {max_index}\")"
   ]
  },
  {
   "cell_type": "code",
   "execution_count": 50,
   "id": "8e7dff8cd9705ef6",
   "metadata": {
    "ExecuteTime": {
     "end_time": "2024-09-18T21:30:15.683276200Z",
     "start_time": "2024-09-18T21:30:15.665085400Z"
    },
    "collapsed": false
   },
   "outputs": [
    {
     "data": {
      "text/html": [
       "<div>\n",
       "<style scoped>\n",
       "    .dataframe tbody tr th:only-of-type {\n",
       "        vertical-align: middle;\n",
       "    }\n",
       "\n",
       "    .dataframe tbody tr th {\n",
       "        vertical-align: top;\n",
       "    }\n",
       "\n",
       "    .dataframe thead th {\n",
       "        text-align: right;\n",
       "    }\n",
       "</style>\n",
       "<table border=\"1\" class=\"dataframe\">\n",
       "  <thead>\n",
       "    <tr style=\"text-align: right;\">\n",
       "      <th>Cluster</th>\n",
       "      <th>0</th>\n",
       "      <th>1</th>\n",
       "    </tr>\n",
       "  </thead>\n",
       "  <tbody>\n",
       "    <tr>\n",
       "      <th>TROW</th>\n",
       "      <td>0.514069</td>\n",
       "      <td>0.625</td>\n",
       "    </tr>\n",
       "  </tbody>\n",
       "</table>\n",
       "</div>"
      ],
      "text/plain": [
       "Cluster         0      1\n",
       "TROW     0.514069  0.625"
      ]
     },
     "execution_count": 50,
     "metadata": {},
     "output_type": "execute_result"
    }
   ],
   "source": [
    "df_clusters[df_clusters.index == \"TROW\"]"
   ]
  },
  {
   "cell_type": "code",
   "execution_count": 51,
   "id": "9e1803735474db1f",
   "metadata": {
    "ExecuteTime": {
     "end_time": "2024-09-18T21:35:16.254389700Z",
     "start_time": "2024-09-18T21:35:16.248466800Z"
    },
    "collapsed": false
   },
   "outputs": [
    {
     "name": "stdout",
     "output_type": "stream",
     "text": [
      "Minimum Value: 0.375\n",
      "Index of Minimum Value: ('LLL', 0)\n"
     ]
    }
   ],
   "source": [
    "# מציאת המינימום\n",
    "min_value = df_clusters.min().min()\n",
    "min_index = df_clusters.stack().idxmin()  \n",
    "print(f\"Minimum Value: {min_value}\")\n",
    "print(f\"Index of Minimum Value: {min_index}\")"
   ]
  },
  {
   "cell_type": "code",
   "execution_count": 52,
   "id": "f66db0985d5b6998",
   "metadata": {
    "ExecuteTime": {
     "end_time": "2024-09-18T21:35:25.455292Z",
     "start_time": "2024-09-18T21:35:25.445134300Z"
    },
    "collapsed": false
   },
   "outputs": [
    {
     "data": {
      "text/html": [
       "<div>\n",
       "<style scoped>\n",
       "    .dataframe tbody tr th:only-of-type {\n",
       "        vertical-align: middle;\n",
       "    }\n",
       "\n",
       "    .dataframe tbody tr th {\n",
       "        vertical-align: top;\n",
       "    }\n",
       "\n",
       "    .dataframe thead th {\n",
       "        text-align: right;\n",
       "    }\n",
       "</style>\n",
       "<table border=\"1\" class=\"dataframe\">\n",
       "  <thead>\n",
       "    <tr style=\"text-align: right;\">\n",
       "      <th>Cluster</th>\n",
       "      <th>0</th>\n",
       "      <th>1</th>\n",
       "    </tr>\n",
       "  </thead>\n",
       "  <tbody>\n",
       "    <tr>\n",
       "      <th>LLL</th>\n",
       "      <td>0.375</td>\n",
       "      <td>0.529352</td>\n",
       "    </tr>\n",
       "  </tbody>\n",
       "</table>\n",
       "</div>"
      ],
      "text/plain": [
       "Cluster      0         1\n",
       "LLL      0.375  0.529352"
      ]
     },
     "execution_count": 52,
     "metadata": {},
     "output_type": "execute_result"
    }
   ],
   "source": [
    "df_clusters[df_clusters.index == \"LLL\"]\n"
   ]
  }
 ],
 "metadata": {
  "kernelspec": {
   "display_name": "Python 3",
   "language": "python",
   "name": "python3"
  },
  "language_info": {
   "codemirror_mode": {
    "name": "ipython",
    "version": 3
   },
   "file_extension": ".py",
   "mimetype": "text/x-python",
   "name": "python",
   "nbconvert_exporter": "python",
   "pygments_lexer": "ipython3",
   "version": "3.12.5"
  }
 },
 "nbformat": 4,
 "nbformat_minor": 5
}
